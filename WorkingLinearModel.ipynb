{
 "cells": [
  {
   "cell_type": "code",
   "execution_count": 1,
   "id": "62b80449",
   "metadata": {},
   "outputs": [],
   "source": [
    "import pandas as pd\n",
    "import numpy as np\n",
    "import matplotlib.pyplot as plt\n",
    "from sklearn.linear_model import LinearRegression\n",
    "from sklearn.metrics import r2_score"
   ]
  },
  {
   "cell_type": "code",
   "execution_count": 2,
   "id": "449aa00a",
   "metadata": {},
   "outputs": [],
   "source": [
    "# Load the data into a pandas DataFrame\n",
    "data = pd.read_csv('new.csv')\n",
    "data.dropna(inplace=True)"
   ]
  },
  {
   "cell_type": "code",
   "execution_count": 3,
   "id": "12ffda56",
   "metadata": {},
   "outputs": [
    {
     "data": {
      "text/plain": [
       "0       2021-01-01\n",
       "1       2021-01-01\n",
       "2       2021-01-01\n",
       "3       2021-01-01\n",
       "4       2021-01-01\n",
       "           ...    \n",
       "36619   2020-12-31\n",
       "36620   2020-12-31\n",
       "36622   2020-12-31\n",
       "36623   2020-12-31\n",
       "36624   2020-12-31\n",
       "Name: FIPS, Length: 14932, dtype: datetime64[ns]"
      ]
     },
     "execution_count": 3,
     "metadata": {},
     "output_type": "execute_result"
    }
   ],
   "source": [
    "data['FIPS'] = pd.to_datetime(data['FIPS'])\n",
    "data['FIPS']"
   ]
  },
  {
   "cell_type": "code",
   "execution_count": 4,
   "id": "b8c181c4",
   "metadata": {},
   "outputs": [
    {
     "data": {
      "text/plain": [
       "0       2021-01-01\n",
       "1       2021-01-01\n",
       "2       2021-01-01\n",
       "3       2021-01-01\n",
       "4       2021-01-01\n",
       "           ...    \n",
       "36619   2020-12-31\n",
       "36620   2020-12-31\n",
       "36622   2020-12-31\n",
       "36623   2020-12-31\n",
       "36624   2020-12-31\n",
       "Name: FIPS, Length: 14932, dtype: datetime64[ns]"
      ]
     },
     "execution_count": 4,
     "metadata": {},
     "output_type": "execute_result"
    }
   ],
   "source": [
    "\n",
    "# Sort the data by FIPS\n",
    "data['FIPS'] = pd.to_datetime(data['FIPS'], format=\"%Y%m%d\").sort_values(ascending=True)\n",
    "data['FIPS']"
   ]
  },
  {
   "cell_type": "code",
   "execution_count": 5,
   "id": "20f43e27",
   "metadata": {},
   "outputs": [
    {
     "data": {
      "text/html": [
       "<div>\n",
       "<style scoped>\n",
       "    .dataframe tbody tr th:only-of-type {\n",
       "        vertical-align: middle;\n",
       "    }\n",
       "\n",
       "    .dataframe tbody tr th {\n",
       "        vertical-align: top;\n",
       "    }\n",
       "\n",
       "    .dataframe thead th {\n",
       "        text-align: right;\n",
       "    }\n",
       "</style>\n",
       "<table border=\"1\" class=\"dataframe\">\n",
       "  <thead>\n",
       "    <tr style=\"text-align: right;\">\n",
       "      <th></th>\n",
       "      <th>Lat</th>\n",
       "      <th>Long_</th>\n",
       "      <th>Deaths</th>\n",
       "      <th>Incident_Rate</th>\n",
       "      <th>Case_Fatality_Ratio</th>\n",
       "    </tr>\n",
       "  </thead>\n",
       "  <tbody>\n",
       "    <tr>\n",
       "      <th>count</th>\n",
       "      <td>4.210000e+02</td>\n",
       "      <td>4.210000e+02</td>\n",
       "      <td>421.000000</td>\n",
       "      <td>421.000000</td>\n",
       "      <td>421.000000</td>\n",
       "    </tr>\n",
       "    <tr>\n",
       "      <th>mean</th>\n",
       "      <td>1.100609e+01</td>\n",
       "      <td>7.840062e+01</td>\n",
       "      <td>13552.344418</td>\n",
       "      <td>1268.847776</td>\n",
       "      <td>1.432861</td>\n",
       "    </tr>\n",
       "    <tr>\n",
       "      <th>std</th>\n",
       "      <td>9.959434e-14</td>\n",
       "      <td>8.109825e-13</td>\n",
       "      <td>8955.994622</td>\n",
       "      <td>932.867342</td>\n",
       "      <td>0.166040</td>\n",
       "    </tr>\n",
       "    <tr>\n",
       "      <th>min</th>\n",
       "      <td>1.100609e+01</td>\n",
       "      <td>7.840062e+01</td>\n",
       "      <td>307.000000</td>\n",
       "      <td>44.852816</td>\n",
       "      <td>0.879303</td>\n",
       "    </tr>\n",
       "    <tr>\n",
       "      <th>25%</th>\n",
       "      <td>1.100609e+01</td>\n",
       "      <td>7.840062e+01</td>\n",
       "      <td>9010.000000</td>\n",
       "      <td>716.842135</td>\n",
       "      <td>1.326783</td>\n",
       "    </tr>\n",
       "    <tr>\n",
       "      <th>50%</th>\n",
       "      <td>1.100609e+01</td>\n",
       "      <td>7.840062e+01</td>\n",
       "      <td>12188.000000</td>\n",
       "      <td>1057.512335</td>\n",
       "      <td>1.469379</td>\n",
       "    </tr>\n",
       "    <tr>\n",
       "      <th>75%</th>\n",
       "      <td>1.100609e+01</td>\n",
       "      <td>7.840062e+01</td>\n",
       "      <td>13258.000000</td>\n",
       "      <td>1316.858062</td>\n",
       "      <td>1.530985</td>\n",
       "    </tr>\n",
       "    <tr>\n",
       "      <th>max</th>\n",
       "      <td>1.100609e+01</td>\n",
       "      <td>7.840062e+01</td>\n",
       "      <td>34197.000000</td>\n",
       "      <td>3298.251813</td>\n",
       "      <td>1.726175</td>\n",
       "    </tr>\n",
       "  </tbody>\n",
       "</table>\n",
       "</div>"
      ],
      "text/plain": [
       "                Lat         Long_        Deaths  Incident_Rate  \\\n",
       "count  4.210000e+02  4.210000e+02    421.000000     421.000000   \n",
       "mean   1.100609e+01  7.840062e+01  13552.344418    1268.847776   \n",
       "std    9.959434e-14  8.109825e-13   8955.994622     932.867342   \n",
       "min    1.100609e+01  7.840062e+01    307.000000      44.852816   \n",
       "25%    1.100609e+01  7.840062e+01   9010.000000     716.842135   \n",
       "50%    1.100609e+01  7.840062e+01  12188.000000    1057.512335   \n",
       "75%    1.100609e+01  7.840062e+01  13258.000000    1316.858062   \n",
       "max    1.100609e+01  7.840062e+01  34197.000000    3298.251813   \n",
       "\n",
       "       Case_Fatality_Ratio  \n",
       "count           421.000000  \n",
       "mean              1.432861  \n",
       "std               0.166040  \n",
       "min               0.879303  \n",
       "25%               1.326783  \n",
       "50%               1.469379  \n",
       "75%               1.530985  \n",
       "max               1.726175  "
      ]
     },
     "execution_count": 5,
     "metadata": {},
     "output_type": "execute_result"
    }
   ],
   "source": [
    "# filter the tamilnadu values \n",
    "\n",
    "some_value ='Tamil Nadu'\n",
    "\n",
    "# print(data.head())\n",
    "# print(data.dtypes)\n",
    "#sortedDateValue =  data.sort_values(by='FIPS', inplace = True)\n",
    "\n",
    "data = data.loc[data['Province_State'] == some_value]\n",
    "data.describe()"
   ]
  },
  {
   "cell_type": "code",
   "execution_count": 6,
   "id": "4f441fe7",
   "metadata": {},
   "outputs": [],
   "source": [
    "# Create a new DataFrame with FIPS column converted to ordinal values\n",
    "date_df = pd.DataFrame({'date_ordinal': data['FIPS'].apply(lambda x: x.toordinal())})\n"
   ]
  },
  {
   "cell_type": "code",
   "execution_count": 7,
   "id": "efbf1827",
   "metadata": {},
   "outputs": [],
   "source": [
    "# Create a new DataFrame with Active column\n",
    "count_df = pd.DataFrame({'Active': data['Active']})\n"
   ]
  },
  {
   "cell_type": "code",
   "execution_count": 8,
   "id": "ab9362ca",
   "metadata": {},
   "outputs": [],
   "source": [
    "\n",
    "# Concatenate the two DataFrames\n",
    "merged_df = pd.concat([date_df, count_df], axis=1)\n"
   ]
  },
  {
   "cell_type": "code",
   "execution_count": 9,
   "id": "18d951f5",
   "metadata": {},
   "outputs": [],
   "source": [
    "\n",
    "# Create the linear regression model\n",
    "reg = LinearRegression()\n",
    "\n"
   ]
  },
  {
   "cell_type": "code",
   "execution_count": 10,
   "id": "336fb056",
   "metadata": {},
   "outputs": [],
   "source": [
    "# Split the data into training and testing sets\n",
    "train_size = int(len(merged_df) * 0.8)\n",
    "train_set = merged_df[:train_size]\n",
    "test_set = merged_df[train_size:]\n",
    "\n",
    "\n"
   ]
  },
  {
   "cell_type": "code",
   "execution_count": 11,
   "id": "06164073",
   "metadata": {},
   "outputs": [
    {
     "data": {
      "text/plain": [
       "LinearRegression()"
      ]
     },
     "execution_count": 11,
     "metadata": {},
     "output_type": "execute_result"
    }
   ],
   "source": [
    "# Fit the model on the training set\n",
    "reg.fit(train_set[['date_ordinal']], train_set[['Active']])\n",
    "\n"
   ]
  },
  {
   "cell_type": "code",
   "execution_count": 12,
   "id": "0a660f80",
   "metadata": {},
   "outputs": [
    {
     "data": {
      "text/plain": [
       "array([[45706.8868048 ],\n",
       "       [48121.27960533],\n",
       "       [50457.78876712],\n",
       "       [52872.18156765],\n",
       "       [55208.69072945],\n",
       "       [50691.4396833 ],\n",
       "       [50769.32332203],\n",
       "       [50847.20696076],\n",
       "       [50925.09059948],\n",
       "       [51002.97423821],\n",
       "       [51080.85787693],\n",
       "       [51158.74151567],\n",
       "       [51236.62515439],\n",
       "       [51314.50879312],\n",
       "       [51392.39243184],\n",
       "       [51470.27607057],\n",
       "       [51548.1597093 ],\n",
       "       [51626.04334802],\n",
       "       [51703.92698675],\n",
       "       [51781.81062548],\n",
       "       [51859.6942642 ],\n",
       "       [51937.57790293],\n",
       "       [52015.46154165],\n",
       "       [52093.34518038],\n",
       "       [29195.55539477],\n",
       "       [31609.94819529],\n",
       "       [33868.57371836],\n",
       "       [36282.96651889],\n",
       "       [38619.47568068],\n",
       "       [41033.8684812 ],\n",
       "       [43370.377643  ],\n",
       "       [45784.77044353],\n",
       "       [48199.16324405],\n",
       "       [50535.67240585],\n",
       "       [52950.06520637],\n",
       "       [55286.57436817],\n",
       "       [53105.83248383],\n",
       "       [53183.71612255],\n",
       "       [53261.59976128],\n",
       "       [53339.48340001],\n",
       "       [53417.36703873],\n",
       "       [53495.25067746],\n",
       "       [53573.13431618],\n",
       "       [53651.01795492],\n",
       "       [53728.90159364],\n",
       "       [53806.78523237],\n",
       "       [53884.66887109],\n",
       "       [53962.55250982],\n",
       "       [54040.43614855],\n",
       "       [54118.31978727],\n",
       "       [54196.203426  ],\n",
       "       [54274.08706473],\n",
       "       [54351.97070345],\n",
       "       [54429.85434218],\n",
       "       [29273.43903349],\n",
       "       [31687.83183402],\n",
       "       [33946.45735709],\n",
       "       [36360.85015761],\n",
       "       [38697.35931941],\n",
       "       [41111.75211994],\n",
       "       [43448.26128173],\n",
       "       [45862.65408225],\n",
       "       [48277.04688278],\n",
       "       [50613.55604458],\n",
       "       [53027.9488451 ],\n",
       "       [55364.4580069 ],\n",
       "       [55442.34164563],\n",
       "       [55520.22528435],\n",
       "       [55598.10892308],\n",
       "       [55675.9925618 ],\n",
       "       [55753.87620053],\n",
       "       [55831.75983926],\n",
       "       [55909.64347798],\n",
       "       [55987.52711671],\n",
       "       [56065.41075544],\n",
       "       [56143.29439417],\n",
       "       [56221.17803289],\n",
       "       [56299.06167161],\n",
       "       [56376.94531035],\n",
       "       [56454.82894907],\n",
       "       [56532.7125878 ],\n",
       "       [56610.59622652],\n",
       "       [56688.47986525],\n",
       "       [56766.36350398],\n",
       "       [56844.2471427 ]])"
      ]
     },
     "execution_count": 12,
     "metadata": {},
     "output_type": "execute_result"
    }
   ],
   "source": [
    "# Predict the Active values using the testing set\n",
    "predictions = reg.predict(test_set[['date_ordinal']])\n",
    "\n",
    "predictions"
   ]
  },
  {
   "cell_type": "code",
   "execution_count": 13,
   "id": "cb379e5d",
   "metadata": {},
   "outputs": [
    {
     "data": {
      "text/plain": [
       "-7.638354126000088"
      ]
     },
     "execution_count": 13,
     "metadata": {},
     "output_type": "execute_result"
    }
   ],
   "source": [
    "# Calculate the R-squared value\n",
    "r_squared = r2_score(test_set[['Active']], predictions)\n",
    "\n",
    "r_squared"
   ]
  },
  {
   "cell_type": "code",
   "execution_count": 38,
   "id": "e85acae9",
   "metadata": {},
   "outputs": [
    {
     "data": {
      "image/png": "[encoded data removed]",
      "text/plain": [
       "<Figure size 640x480 with 1 Axes>"
      ]
     },
     "metadata": {},
     "output_type": "display_data"
    }
   ],
   "source": [
    "# Visualize the data and the linear regression line\n",
    "plt.scatter(merged_df['date_ordinal'], merged_df['Active'])\n",
    "plt.plot(test_set['date_ordinal'], predictions, color='red')\n",
    "plt.xlabel('FIPS')\n",
    "plt.ylabel('Active')\n",
    "plt.show()\n",
    "\n"
   ]
  }
 ],
 "metadata": {
  "kernelspec": {
   "display_name": "Python 3 (ipykernel)",
   "language": "python",
   "name": "python3"
  },
  "language_info": {
   "codemirror_mode": {
    "name": "ipython",
    "version": 3
   },
   "file_extension": ".py",
   "mimetype": "text/x-python",
   "name": "python",
   "nbconvert_exporter": "python",
   "pygments_lexer": "ipython3",
   "version": "3.10.9"
  }
 },
 "nbformat": 4,
 "nbformat_minor": 5
}
